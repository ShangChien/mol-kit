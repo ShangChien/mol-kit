{
 "cells": [
  {
   "cell_type": "code",
   "execution_count": 30,
   "source": [
    "from pathlib import Path\r\n",
    "import glob"
   ],
   "outputs": [],
   "metadata": {}
  },
  {
   "cell_type": "code",
   "execution_count": 31,
   "source": [
    "Path.cwd()"
   ],
   "outputs": [
    {
     "output_type": "execute_result",
     "data": {
      "text/plain": [
       "WindowsPath('c:/Users/chensq/Desktop/coding/rotational_bond')"
      ]
     },
     "metadata": {},
     "execution_count": 31
    }
   ],
   "metadata": {}
  },
  {
   "cell_type": "code",
   "execution_count": 33,
   "source": [
    "Path(Path.cwd(),'*/RE/*.com')"
   ],
   "outputs": [
    {
     "output_type": "execute_result",
     "data": {
      "text/plain": [
       "WindowsPath('c:/Users/chensq/Desktop/coding/rotational_bond/*/RE/*.com')"
      ]
     },
     "metadata": {},
     "execution_count": 33
    }
   ],
   "metadata": {}
  },
  {
   "cell_type": "code",
   "execution_count": 39,
   "source": [
    "for i in Path.cwd().glob('*/*/RE/*.com'):\r\n",
    "    print(i)"
   ],
   "outputs": [
    {
     "output_type": "stream",
     "name": "stdout",
     "text": [
      "c:\\Users\\chensq\\Desktop\\coding\\rotational_bond\\20211119\\211104-ETA-0164\\RE\\re-mol1-anion.com\n",
      "c:\\Users\\chensq\\Desktop\\coding\\rotational_bond\\20211119\\211104-ETA-0164\\RE\\re-mol1-cation.com\n",
      "c:\\Users\\chensq\\Desktop\\coding\\rotational_bond\\20211119\\211104-ETA-0164\\RE\\re-mol1-neutral.com\n",
      "c:\\Users\\chensq\\Desktop\\coding\\rotational_bond\\20211119\\211109-ETA-0045\\RE\\re-mol1-anion.com\n",
      "c:\\Users\\chensq\\Desktop\\coding\\rotational_bond\\20211119\\211109-ETA-0045\\RE\\re-mol1-cation.com\n",
      "c:\\Users\\chensq\\Desktop\\coding\\rotational_bond\\20211119\\211109-ETA-0045\\RE\\re-mol1-neutral.com\n"
     ]
    }
   ],
   "metadata": {}
  },
  {
   "cell_type": "code",
   "execution_count": 50,
   "source": [
    "for file1 in p.glob('211109-ETA-0045'+'/RE/*.com'):\r\n",
    "    with open(file1,'r') as f:\r\n",
    "        lines=f.readlines()\r\n",
    "    method=lines[3].split(' ',-1)\r\n",
    "    method[1]='opt=modredundant'\r\n",
    "    lines[3]=' '.join(method)\r\n",
    "    \r\n",
    "    lines.append()\r\n"
   ],
   "outputs": [
    {
     "output_type": "execute_result",
     "data": {
      "text/plain": [
       "'#p opt freq b3lyp/6-31g(d) nosymm scf=(maxcycle=100,xqc)\\n'"
      ]
     },
     "metadata": {},
     "execution_count": 50
    }
   ],
   "metadata": {}
  },
  {
   "cell_type": "code",
   "execution_count": 44,
   "source": [
    "for file1 in p.glob('211109-ETA-0045'+'/RE/*.com'):\r\n",
    "    print(file1)"
   ],
   "outputs": [
    {
     "output_type": "stream",
     "name": "stdout",
     "text": [
      "c:\\Users\\chensq\\Desktop\\coding\\rotational_bond\\211109-ETA-0045\\RE\\re-mol1-anion.com\n",
      "c:\\Users\\chensq\\Desktop\\coding\\rotational_bond\\211109-ETA-0045\\RE\\re-mol1-cation.com\n",
      "c:\\Users\\chensq\\Desktop\\coding\\rotational_bond\\211109-ETA-0045\\RE\\re-mol1-neutral.com\n"
     ]
    }
   ],
   "metadata": {}
  },
  {
   "cell_type": "code",
   "execution_count": 6,
   "source": [
    "def is_number(s):\r\n",
    "    try:\r\n",
    "        float(s)\r\n",
    "        return True\r\n",
    "    except ValueError:\r\n",
    "        pass\r\n",
    "    try:\r\n",
    "        import unicodedata\r\n",
    "        unicodedata.numeric(s)\r\n",
    "        return True\r\n",
    "    except (TypeError, ValueError):\r\n",
    "        pass\r\n",
    "    return False"
   ],
   "outputs": [],
   "metadata": {}
  },
  {
   "cell_type": "code",
   "execution_count": 7,
   "source": [
    "file_name=P(P.cwd(),'191104-HTH-0014.mol')\r\n",
    "file_name"
   ],
   "outputs": [
    {
     "output_type": "execute_result",
     "data": {
      "text/plain": [
       "WindowsPath('c:/Users/chensq/Desktop/coding/rotational_bond/191104-HTH-0014.mol')"
      ]
     },
     "metadata": {},
     "execution_count": 7
    }
   ],
   "metadata": {}
  },
  {
   "cell_type": "code",
   "execution_count": 55,
   "source": [
    "for i in Path.cwd().glob('in/*mol'):\r\n",
    "    print(i)"
   ],
   "outputs": [
    {
     "output_type": "stream",
     "name": "stdout",
     "text": [
      "c:\\Users\\chensq\\Desktop\\coding\\rotational_bond\\in\\190929-CPO-0017.mol\n",
      "c:\\Users\\chensq\\Desktop\\coding\\rotational_bond\\in\\191129-EBL-0070.mol\n",
      "c:\\Users\\chensq\\Desktop\\coding\\rotational_bond\\in\\191228-EBL-0005.mol\n",
      "c:\\Users\\chensq\\Desktop\\coding\\rotational_bond\\in\\200117-CPO-0016.mol\n",
      "c:\\Users\\chensq\\Desktop\\coding\\rotational_bond\\in\\210408-EBL-0028.mol\n",
      "c:\\Users\\chensq\\Desktop\\coding\\rotational_bond\\in\\210408-EBL-0033.mol\n",
      "c:\\Users\\chensq\\Desktop\\coding\\rotational_bond\\in\\210625-HTL-0009.mol\n",
      "c:\\Users\\chensq\\Desktop\\coding\\rotational_bond\\in\\210625-HTL-0011.mol\n",
      "c:\\Users\\chensq\\Desktop\\coding\\rotational_bond\\in\\210715-HTL-0072.mol\n",
      "c:\\Users\\chensq\\Desktop\\coding\\rotational_bond\\in\\210802-HTL-0007.mol\n",
      "c:\\Users\\chensq\\Desktop\\coding\\rotational_bond\\in\\210802-HTL-0008.mol\n",
      "c:\\Users\\chensq\\Desktop\\coding\\rotational_bond\\in\\210802-HTL-0009.mol\n",
      "c:\\Users\\chensq\\Desktop\\coding\\rotational_bond\\in\\210802-HTL-0010.mol\n",
      "c:\\Users\\chensq\\Desktop\\coding\\rotational_bond\\in\\211108-EBL-0003.mol\n",
      "c:\\Users\\chensq\\Desktop\\coding\\rotational_bond\\in\\211108-EBL-0004.mol\n",
      "c:\\Users\\chensq\\Desktop\\coding\\rotational_bond\\in\\211108-EBL-0005.mol\n",
      "c:\\Users\\chensq\\Desktop\\coding\\rotational_bond\\in\\211108-EBL-0009.mol\n",
      "c:\\Users\\chensq\\Desktop\\coding\\rotational_bond\\in\\211108-EBL-0010.mol\n",
      "c:\\Users\\chensq\\Desktop\\coding\\rotational_bond\\in\\211108-HTL-0017.mol\n",
      "c:\\Users\\chensq\\Desktop\\coding\\rotational_bond\\in\\211110-EBL-0014.mol\n",
      "c:\\Users\\chensq\\Desktop\\coding\\rotational_bond\\in\\211110-EBL-0015.mol\n",
      "c:\\Users\\chensq\\Desktop\\coding\\rotational_bond\\in\\211110-EBL-0016.mol\n",
      "c:\\Users\\chensq\\Desktop\\coding\\rotational_bond\\in\\211110-EBL-0061.mol\n",
      "c:\\Users\\chensq\\Desktop\\coding\\rotational_bond\\in\\211111-EBL-0001.mol\n",
      "c:\\Users\\chensq\\Desktop\\coding\\rotational_bond\\in\\211111-EBL-0002.mol\n",
      "c:\\Users\\chensq\\Desktop\\coding\\rotational_bond\\in\\211111-EBL-0003.mol\n",
      "c:\\Users\\chensq\\Desktop\\coding\\rotational_bond\\in\\211111-EBL-0004.mol\n",
      "c:\\Users\\chensq\\Desktop\\coding\\rotational_bond\\in\\211111-EBL-0005.mol\n",
      "c:\\Users\\chensq\\Desktop\\coding\\rotational_bond\\in\\211112-HTL-0039.mol\n",
      "c:\\Users\\chensq\\Desktop\\coding\\rotational_bond\\in\\211115-EBL-0001.mol\n",
      "c:\\Users\\chensq\\Desktop\\coding\\rotational_bond\\in\\211115-EBL-0002.mol\n",
      "c:\\Users\\chensq\\Desktop\\coding\\rotational_bond\\in\\211115-EBL-0005.mol\n",
      "c:\\Users\\chensq\\Desktop\\coding\\rotational_bond\\in\\211115-EBL-0006.mol\n",
      "c:\\Users\\chensq\\Desktop\\coding\\rotational_bond\\in\\211115-EBL-0007.mol\n",
      "c:\\Users\\chensq\\Desktop\\coding\\rotational_bond\\in\\211115-EBL-0008.mol\n",
      "c:\\Users\\chensq\\Desktop\\coding\\rotational_bond\\in\\211115-EBL-0010.mol\n",
      "c:\\Users\\chensq\\Desktop\\coding\\rotational_bond\\in\\211115-EBL-0029.mol\n",
      "c:\\Users\\chensq\\Desktop\\coding\\rotational_bond\\in\\211115-EBL-0030.mol\n",
      "c:\\Users\\chensq\\Desktop\\coding\\rotational_bond\\in\\211115-EBL-0031.mol\n",
      "c:\\Users\\chensq\\Desktop\\coding\\rotational_bond\\in\\211115-EBL-0032.mol\n",
      "c:\\Users\\chensq\\Desktop\\coding\\rotational_bond\\in\\211115-HTL-0033.mol\n",
      "c:\\Users\\chensq\\Desktop\\coding\\rotational_bond\\in\\211117-HTL-0033.mol\n",
      "c:\\Users\\chensq\\Desktop\\coding\\rotational_bond\\in\\211117-HTL-0048.mol\n",
      "c:\\Users\\chensq\\Desktop\\coding\\rotational_bond\\in\\211118-HTL-0029.mol\n",
      "c:\\Users\\chensq\\Desktop\\coding\\rotational_bond\\in\\211118-HTL-0030.mol\n",
      "c:\\Users\\chensq\\Desktop\\coding\\rotational_bond\\in\\211118-HTL-0031.mol\n",
      "c:\\Users\\chensq\\Desktop\\coding\\rotational_bond\\in\\211118-HTL-0036.mol\n"
     ]
    }
   ],
   "metadata": {}
  },
  {
   "cell_type": "code",
   "execution_count": 9,
   "source": [
    "start_atom=4\r\n",
    "for index,line in enumerate(lines):\r\n",
    "    try:\r\n",
    "        if line.split()[3].isalpha() and is_number(line.split()[0]) and is_number(line.split()[1]) and is_number(line.split()[2]) :\r\n",
    "            start_atom=index\r\n",
    "            break\r\n",
    "    except:\r\n",
    "        pass\r\n",
    "\r\n"
   ],
   "outputs": [],
   "metadata": {}
  },
  {
   "cell_type": "code",
   "execution_count": 27,
   "source": [
    "H_index=[]\r\n",
    "for index,line in enumerate(lines[start_atom:]):\r\n",
    "    try:\r\n",
    "        if line.split()[3].isalpha():\r\n",
    "            if line.split()[3]=='H':\r\n",
    "                H_index.append(index+1)\r\n",
    "        else:\r\n",
    "            end_atom=index+start_atom\r\n",
    "            num_atom=index\r\n",
    "            start_bond=end_atom\r\n",
    "            print(start_bond,index)\r\n",
    "            break\r\n",
    "    except:\r\n",
    "        pass"
   ],
   "outputs": [
    {
     "output_type": "stream",
     "name": "stdout",
     "text": [
      "109 105\n"
     ]
    }
   ],
   "metadata": {}
  },
  {
   "cell_type": "code",
   "execution_count": 11,
   "source": [
    "bonds=[]\r\n",
    "m=len(str(num_atom))\r\n",
    "for index,line in enumerate(lines[start_bond:-1]):\r\n",
    "    if line.split()[2]!='0':\r\n",
    "        bonds.append(line.split()[0:3])\r\n",
    "    else:\r\n",
    "        bond=[]\r\n",
    "        bond.append(line.split()[0][:-m])\r\n",
    "        bond.append(line.split()[0][-m:])\r\n",
    "        bond.append(line.split()[1])\r\n",
    "        bonds.append(bond)\r\n",
    "bond_without_h=[]\r\n",
    "for bond in bonds:\r\n",
    "    if not (int(bond[0]) in H_index or int(bond[1])in H_index) :\r\n",
    "        bond_without_h.append(bond)"
   ],
   "outputs": [],
   "metadata": {}
  },
  {
   "cell_type": "code",
   "execution_count": 26,
   "source": [
    "rotational_bonds=[]\r\n",
    "for bond in bond_without_h:\r\n",
    "    if bond[2]=='1':\r\n",
    "        rotational_bonds.append(bond)"
   ],
   "outputs": [],
   "metadata": {}
  },
  {
   "cell_type": "code",
   "execution_count": 24,
   "source": [
    "def get_surround_bond(bond_current=[],i=0):\r\n",
    "    bond_searched=[]\r\n",
    "    bond_searched.append(bond_current)\r\n",
    "    point_searched=[]\r\n",
    "    def get_another_point(start):\r\n",
    "        end_point=[]\r\n",
    "        point_searched.append(start)\r\n",
    "        for bond in bonds: \r\n",
    "            if (start in bond[:-1]) and (bond not in bond_searched):\r\n",
    "                another_point=bond[0] if bond[1]==start else bond[1]\r\n",
    "                if another_point not in point_searched:\r\n",
    "                    end_point.append(another_point)\r\n",
    "                    bond_searched.append(bond)\r\n",
    "        return end_point\r\n",
    "    end_point1=get_another_point(start=bond_current[i])\r\n",
    "    end_point2=[]\r\n",
    "    for point in end_point1:\r\n",
    "        end_point2.extend(get_another_point(start=point))\r\n",
    "    end_point3=[]\r\n",
    "    for point in end_point2:\r\n",
    "        end_point3.extend(get_another_point(start=point))\r\n",
    "    return bond_searched"
   ],
   "outputs": [],
   "metadata": {}
  },
  {
   "cell_type": "code",
   "execution_count": 25,
   "source": [
    "text_list=[]\r\n",
    "for bond in rotational_bonds:\r\n",
    "    left=get_surround_bond(bond_current=bond,i=0)\r\n",
    "    right=get_surround_bond(bond_current=bond,i=1)\r\n",
    "    num_same_bonds=len([x for x in left if x in right])\r\n",
    "    if num_same_bonds==1:\r\n",
    "        for b in bonds: \r\n",
    "            if (bond[0] in b[:-1]) and (b!=bond):\r\n",
    "                another_point1=b[1] if b[0]==bond[0] else b[0]\r\n",
    "                for b2 in bonds:\r\n",
    "                    if (bond[1] in b2[:-1]) and (b2!=bond):\r\n",
    "                        another_point2=b2[1] if b2[0]==bond[1] else b2[0]\r\n",
    "                        break\r\n",
    "                break\r\n",
    "        text_list.append([another_point1,bond[0],bond[1],another_point2])      \r\n",
    "text_list      \r\n"
   ],
   "outputs": [
    {
     "output_type": "execute_result",
     "data": {
      "text/plain": [
       "[['14', '17', '43', '44'],\n",
       " ['4', '20', '21', '22'],\n",
       " ['4', '20', '32', '33'],\n",
       " ['17', '43', '44', '45'],\n",
       " ['17', '43', '53', '54'],\n",
       " ['46', '49', '85', '86'],\n",
       " ['47', '51', '74', '75'],\n",
       " ['56', '60', '63', '64']]"
      ]
     },
     "metadata": {},
     "execution_count": 25
    }
   ],
   "metadata": {}
  },
  {
   "cell_type": "code",
   "execution_count": 51,
   "source": [
    "ss=[[22],223]\r\n",
    "sss=[[224],2243]\r\n",
    "ss.extend(sss)\r\n",
    "ss"
   ],
   "outputs": [
    {
     "output_type": "execute_result",
     "data": {
      "text/plain": [
       "[[22], 223, [224], 2243]"
      ]
     },
     "metadata": {},
     "execution_count": 51
    }
   ],
   "metadata": {}
  },
  {
   "cell_type": "code",
   "execution_count": 73,
   "source": [
    "l1=[['12', '1', '2', '3'], ['2', '1', '12', '13'], ['2', '1', '22', '23'], ['5', '9', '79', '80'], ['15', '19', '33', '34'], ['36', '40', '43', '44'], ['40', '43', '44', '46'], ['40', '43', '45', '48'], ['54', '61', '65', '66']]"
   ],
   "outputs": [],
   "metadata": {}
  },
  {
   "cell_type": "code",
   "execution_count": 74,
   "source": [
    "for t in l1:\r\n",
    "    t.append('F')\r\n",
    "    t.insert(0,'D')\r\n",
    "    t=' '.join(t)\r\n",
    "print(l1)"
   ],
   "outputs": [
    {
     "output_type": "stream",
     "name": "stdout",
     "text": [
      "[['D', '12', '1', '2', '3', 'F'], ['D', '2', '1', '12', '13', 'F'], ['D', '2', '1', '22', '23', 'F'], ['D', '5', '9', '79', '80', 'F'], ['D', '15', '19', '33', '34', 'F'], ['D', '36', '40', '43', '44', 'F'], ['D', '40', '43', '44', '46', 'F'], ['D', '40', '43', '45', '48', 'F'], ['D', '54', '61', '65', '66', 'F']]\n"
     ]
    }
   ],
   "metadata": {}
  },
  {
   "cell_type": "code",
   "execution_count": 78,
   "source": [
    "text='#p opt freq b3lyp/6-31g(d) nosymm scf=(maxcycle=100,xqc)'"
   ],
   "outputs": [],
   "metadata": {}
  },
  {
   "cell_type": "code",
   "execution_count": 79,
   "source": [
    "text=text.split(' ',-1)\r\n",
    "text=' '.join(text)\r\n",
    "text"
   ],
   "outputs": [
    {
     "output_type": "execute_result",
     "data": {
      "text/plain": [
       "'#p opt freq b3lyp/6-31g(d) nosymm scf=(maxcycle=100,xqc)'"
      ]
     },
     "metadata": {},
     "execution_count": 79
    }
   ],
   "metadata": {}
  },
  {
   "cell_type": "code",
   "execution_count": null,
   "source": [],
   "outputs": [],
   "metadata": {}
  }
 ],
 "metadata": {
  "orig_nbformat": 4,
  "language_info": {
   "name": "python",
   "version": "3.8.8",
   "mimetype": "text/x-python",
   "codemirror_mode": {
    "name": "ipython",
    "version": 3
   },
   "pygments_lexer": "ipython3",
   "nbconvert_exporter": "python",
   "file_extension": ".py"
  },
  "kernelspec": {
   "name": "python3",
   "display_name": "Python 3.8.8 64-bit (conda)"
  },
  "interpreter": {
   "hash": "9cc273a5df71486cc71a39a261bf6d82d026507ff1b51fa9f8def4a2173a39cc"
  }
 },
 "nbformat": 4,
 "nbformat_minor": 2
}